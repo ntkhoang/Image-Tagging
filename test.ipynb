{
 "cells": [
  {
   "cell_type": "code",
   "execution_count": null,
   "metadata": {},
   "outputs": [],
   "source": [
    "import torch\n",
    "\n",
    "TORCH_version = torch.__version__\n",
    "TORCH = TORCH_version.split('+')[0]\n",
    "CUDA_version = torch.version.cuda\n",
    "CUDA = \"cu\" + CUDA_version.replace('.', '')"
   ]
  },
  {
   "cell_type": "code",
   "execution_count": null,
   "metadata": {},
   "outputs": [],
   "source": [
    "%%capture\n",
    "!pip install torch-scatter==latest+{CUDA}     -f https://pytorch-geometric.com/whl/torch-{TORCH}.html\n",
    "!pip install torch-sparse==latest+{CUDA}      -f https://pytorch-geometric.com/whl/torch-{TORCH}.html\n",
    "!pip install torch-cluster==latest+{CUDA}     -f https://pytorch-geometric.com/whl/torch-{TORCH}.html\n",
    "!pip install torch-spline-conv==latest+{CUDA} -f https://pytorch-geometric.com/whl/torch-{TORCH}.html\n",
    "!pip install torch-geometric"
   ]
  },
  {
   "cell_type": "code",
   "execution_count": null,
   "metadata": {},
   "outputs": [],
   "source": [
    "import numpy as np\n",
    "import pandas as pd\n",
    "from plotnine import ggplot, geom_line, aes, xlab, theme, element_blank, ggtitle\n",
    "import scipy.sparse as sparse\n",
    "from sklearn.model_selection import KFold\n",
    "import torch\n",
    "import torch.nn as nn\n",
    "\n",
    "from gcn.model import TwoLayerGCN, GCN, TwoLayerChebNet\n",
    "from gcn.trainer import Trainer, RunConfig\n",
    "from gcn.utils import Dataset, load_data, set_labels"
   ]
  },
  {
   "cell_type": "code",
   "execution_count": null,
   "metadata": {},
   "outputs": [],
   "source": [
    "# important for reproducibility!\n",
    "def set_seed(seed=1):\n",
    "    np.random.seed(seed)\n",
    "    torch.manual_seed(seed)\n",
    "    if torch.cuda.is_available():\n",
    "        torch.cuda.manual_seed(seed)"
   ]
  },
  {
   "cell_type": "code",
   "execution_count": null,
   "metadata": {},
   "outputs": [],
   "source": [
    "# training parameters, there is no batch size as we use the whole set in each iteration\n",
    "run_config = RunConfig(\n",
    "    learning_rate=0.1,\n",
    "    num_epochs=200,\n",
    "    weight_decay=5e-4,\n",
    "    output_dir=\"/content/gcn-training/\"\n",
    ")"
   ]
  },
  {
   "cell_type": "code",
   "execution_count": null,
   "metadata": {},
   "outputs": [],
   "source": [
    "device = torch.device(\"cuda\" if torch.cuda.is_available() else \"cpu\")"
   ]
  },
  {
   "cell_type": "code",
   "execution_count": null,
   "metadata": {},
   "outputs": [],
   "source": [
    "def evaluate_gcn_on_dataset(dataset: Dataset, iter = 1):\n",
    "    set_seed()\n",
    "    features, labels, train_labels, val_labels, test_labels, adjacency_matrix, \\\n",
    "    laplacian_matrix, num_classes = load_data(dataset)\n",
    "    accuracies = []\n",
    "\n",
    "    for i in range(iter):\n",
    "        model = TwoLayerGCN(\n",
    "            input_size=features.size(1),\n",
    "            hidden_size=16,\n",
    "            output_size=num_classes,\n",
    "            dropout=0.5\n",
    "        )\n",
    "        trainer = Trainer(model)\n",
    "        trainer.train(features, train_labels, val_labels, adjacency_matrix, device, run_config, log=False)\n",
    "\n",
    "        _, accuracy = trainer.evaluate(features, test_labels, adjacency_matrix, device)\n",
    "        accuracies.append(accuracy)\n",
    "    print(f\"\\nPerformance on {dataset.name}:\\n- test accuracy = {np.mean(accuracies):.3f} +- {np.std(accuracies):.3f}\\n\")\n",
    "\n",
    "def evaluate_chebnet_on_dataset(dataset: Dataset, k = 2, iter = 1):\n",
    "    set_seed()\n",
    "    features, labels, train_labels, val_labels, test_labels, adjacency_matrix, \\\n",
    "    laplacian_matrix, num_classes = load_data(dataset)\n",
    "    accuracies = []\n",
    "\n",
    "    for i in range(iter):\n",
    "        model = TwoLayerChebNet(\n",
    "            input_size=features.size(1),\n",
    "            hidden_size=16,\n",
    "            output_size=num_classes,\n",
    "            dropout=0.5,\n",
    "            k=k\n",
    "        )\n",
    "\n",
    "        trainer = Trainer(model)\n",
    "        trainer.train(features, train_labels, val_labels, laplacian_matrix, device, run_config, log=False)\n",
    "\n",
    "        _ , accuracy = trainer.evaluate(features, test_labels, laplacian_matrix, device)\n",
    "        accuracies.append(accuracy)\n",
    "    print(f\"\\nPerformance on {dataset.name}:\\n- test accuracy = {np.mean(accuracies):.3f} +- {np.std(accuracies):.3f}\\n\")"
   ]
  },
  {
   "cell_type": "code",
   "execution_count": null,
   "metadata": {},
   "outputs": [],
   "source": [
    "evaluate_gcn_on_dataset(Dataset.Cora)  # iter=100 to get uncertainty reported\n",
    "evaluate_gcn_on_dataset(Dataset.CiteSeer)\n",
    "evaluate_gcn_on_dataset(Dataset.PubMed)"
   ]
  }
 ],
 "metadata": {
  "kernelspec": {
   "display_name": ".venv",
   "language": "python",
   "name": "python3"
  },
  "language_info": {
   "name": "python",
   "version": "3.12.7"
  }
 },
 "nbformat": 4,
 "nbformat_minor": 2
}
